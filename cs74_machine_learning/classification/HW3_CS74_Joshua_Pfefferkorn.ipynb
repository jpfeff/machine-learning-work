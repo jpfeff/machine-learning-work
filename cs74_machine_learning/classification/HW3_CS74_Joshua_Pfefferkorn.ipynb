{
 "cells": [
  {
   "cell_type": "markdown",
   "metadata": {},
   "source": [
    "Please run the cell below to import libraries needed for this HW. Please use the autograd numpy, otherwise you will have issues. Please remember to always use the np library for mathematical functions (e.g., np.log, np.exp, np.sum, etc)"
   ]
  },
  {
   "cell_type": "code",
   "execution_count": 8,
   "metadata": {},
   "outputs": [],
   "source": [
    "import autograd.numpy as np\n",
    "from autograd import grad \n",
    "import matplotlib.pyplot as plt\n",
    "%matplotlib inline"
   ]
  },
  {
   "cell_type": "markdown",
   "metadata": {},
   "source": [
    "Q1) [5 points] Implement the sigmod funcation discussed in class. The function takes a value, x, as input and returns the sigmoid function applied to the value."
   ]
  },
  {
   "cell_type": "code",
   "execution_count": 9,
   "metadata": {},
   "outputs": [],
   "source": [
    "def sigmoid(x):\n",
    "    # add small epsilon as recommended by Prof. Vosoughi to avoid log(0) error later on\n",
    "    epsilon = 0.000000001\n",
    "    y = 1.0/(1.0 + np.exp(-x))\n",
    "    y += epsilon\n",
    "    return y"
   ]
  },
  {
   "cell_type": "markdown",
   "metadata": {},
   "source": [
    "Q2) [20 points] Implement the logistic regression model and the cross entropy cost discussed in class. Note that the logistic regression model relies on the sigmoid function (which you have implemented above) and the linear  model (which you have implemented in HW2). You can use the linear model from HW2 for this problem. Similar to the least-squares cost from HW2, the cross entropy cost takes in as input an array of weights, w, an array of x's and an array of ys and return a float indicating the total cost."
   ]
  },
  {
   "cell_type": "code",
   "execution_count": 10,
   "metadata": {},
   "outputs": [],
   "source": [
    "# linear model from HW2\n",
    "def model(x,w):\n",
    "    # create row of ones to multiply by bias term\n",
    "    new_row = np.ones(x.shape[1])\n",
    "    # append row to x's\n",
    "    x_o = np.vstack((new_row,x))\n",
    "    # calculate linear combination of x and w\n",
    "    y_predicted = np.array(x_o.T@w)\n",
    "    return y_predicted\n",
    "\n",
    "# logistic regression cross entropy cost\n",
    "def cross_entropy(w,x,y):\n",
    "    cost = (y * np.log(sigmoid(model(x,w)))) + (1.0-y)*(np.log(1 - sigmoid(model(x,w))))\n",
    "    # average over all points and multiply by -1\n",
    "    mean_cost = -1*np.mean(cost)\n",
    "    return mean_cost"
   ]
  },
  {
   "cell_type": "markdown",
   "metadata": {},
   "source": [
    "Q3) [2 points] Run the code below to read a data file. Plot a scatter plot of x vs y."
   ]
  },
  {
   "cell_type": "code",
   "execution_count": 11,
   "metadata": {},
   "outputs": [
    {
     "data": {
      "image/png": "[encoded data removed]",
      "text/plain": [
       "<Figure size 432x288 with 1 Axes>"
      ]
     },
     "metadata": {
      "needs_background": "light"
     },
     "output_type": "display_data"
    }
   ],
   "source": [
    "csvname = '2d_classification_data_v1_entropy.csv'\n",
    "data = np.loadtxt(csvname,delimiter = ',')\n",
    "x = data[:-1,:]\n",
    "y = data[-1:,:] \n",
    "\n",
    "# plot data\n",
    "plt.scatter(x,y,s=25)\n",
    "plt.title(\"Data from 2d_classification_data_v1_entropy.csv\")\n",
    "plt.show()"
   ]
  },
  {
   "cell_type": "markdown",
   "metadata": {},
   "source": [
    "Q4) [10 points] Move the gradient descent function from HW2. Run the function using the cross_entropy cost and the x and y from above. The parameters should be set to: max_its=2000,w=[3.0,3.0 ], and alpha=1. Save the cost and weight history returned by the gradient descent function. Plot the cost history.\n"
   ]
  },
  {
   "cell_type": "code",
   "execution_count": 12,
   "metadata": {},
   "outputs": [],
   "source": [
    "# gradient descent from HW2\n",
    "def gradient_descent(g,alpha,max_its,w,x,y):\n",
    "    # find gradient of function\n",
    "    gradient = grad(g)\n",
    "    # empty lists for cost history and weight history\n",
    "    cost_history = []\n",
    "    weight_history = []\n",
    "    w=w.copy()\n",
    "    # loop over iterations\n",
    "    for k in range(max_its):\n",
    "        # calculate cost\n",
    "        cost = g(w,x,y)\n",
    "        # add to cost history\n",
    "        cost_history.append(cost)\n",
    "        # add weight to weight history\n",
    "        weight_history.append(w)\n",
    "        # update weight according to cost and learning rate\n",
    "        w -= alpha*gradient(w,x,y)\n",
    "    # return cost history\n",
    "    return weight_history, cost_history"
   ]
  },
  {
   "cell_type": "code",
   "execution_count": 13,
   "metadata": {},
   "outputs": [
    {
     "data": {
      "image/png": "[encoded data removed]",
      "text/plain": [
       "<Figure size 432x288 with 1 Axes>"
      ]
     },
     "metadata": {
      "needs_background": "light"
     },
     "output_type": "display_data"
    }
   ],
   "source": [
    "# define the initial weight, max iterations, and learning rate\n",
    "w=np.array([3.0,3.0])\n",
    "max_its=2000\n",
    "alpha=1\n",
    "\n",
    "# run gradient descent to get the weight and cost history\n",
    "weight_history, cost_history = gradient_descent(cross_entropy,alpha,max_its,w,x,y)\n",
    "\n",
    "# plot data\n",
    "plt.plot(range(max_its),cost_history)\n",
    "plt.title(\"Cost vs. Iteration with Cross Entropy Cost\")\n",
    "plt.xlabel(\"Iteration\")\n",
    "plt.ylabel(\"Cost\")\n",
    "plt.show()\n"
   ]
  },
  {
   "cell_type": "markdown",
   "metadata": {},
   "source": [
    "Q5) [10 points] Implement a logistic regression classifier that takes in the learned weights and x as input and returns the probability of the positive class (note that this is just the output of the sigmoid applied to the linear combination of the x and w)"
   ]
  },
  {
   "cell_type": "code",
   "execution_count": 14,
   "metadata": {},
   "outputs": [],
   "source": [
    "def logistic_regression(learned_w,x):\n",
    "    # apply sigmoid to model output\n",
    "    positive_class_prob = sigmoid(model(np.array([x]), learned_w))\n",
    "    return positive_class_prob"
   ]
  },
  {
   "cell_type": "markdown",
   "metadata": {},
   "source": [
    "Q6) [5 points] Use the learned weights from the last gradient descent run and the logistic regression function implemented above to plot the learned curve. You can use the linspace method (shown below) to generate a list of xs that you can use. You need to generate a y for each of the candidate xs using the logistic regression function and the learned weights. On the same figure, also plot the scatter plot from Q3. \n"
   ]
  },
  {
   "cell_type": "code",
   "execution_count": 15,
   "metadata": {},
   "outputs": [
    {
     "data": {
      "image/png": "[encoded data removed]",
      "text/plain": [
       "<Figure size 432x288 with 1 Axes>"
      ]
     },
     "metadata": {
      "needs_background": "light"
     },
     "output_type": "display_data"
    }
   ],
   "source": [
    "# generate x's for plotting\n",
    "s = np.linspace(np.min(x),np.max(x))\n",
    "\n",
    "# scatter plot of the data\n",
    "plt.scatter(x,y,s=25)\n",
    "\n",
    "# find the minimum cost and associated weights\n",
    "min_index = cost_history.index(min(cost_history))\n",
    "w = weight_history[min_index]\n",
    "\n",
    "# plot the learned line\n",
    "plt.plot(s, logistic_regression(w,s), color = 'r')\n",
    "plt.show()"
   ]
  },
  {
   "cell_type": "markdown",
   "metadata": {},
   "source": [
    "Q7) [5 points] Slightly modify the logistic regression model above so that it returns a 1 or 0 based on the specified threshold."
   ]
  },
  {
   "cell_type": "code",
   "execution_count": 16,
   "metadata": {},
   "outputs": [],
   "source": [
    "def logistic_regression_modified(learned_w,x, threshold):\n",
    "    positive_class_prob = sigmoid(model(np.array([x]), learned_w))\n",
    "    # returns a 1 or 0 based on the threshold\n",
    "    np.where(positive_class_prob > threshold, 1, 0)\n",
    "    return class_label"
   ]
  },
  {
   "cell_type": "markdown",
   "metadata": {},
   "source": [
    "Q8) [15 points] Write a function (called evaluate) that takes in actual and predicted ys (for a binary classification problem) and return a confusion matrix and the accuracy. Use the modified logistic regression model and the evaluate function below to report the confusion matrix and accuracy for the x and y used for our training at a threshold of 0.5.  "
   ]
  },
  {
   "cell_type": "code",
   "execution_count": 17,
   "metadata": {},
   "outputs": [],
   "source": [
    "def evaluate(y_actual,y_pred):\n",
    "    # initialize all as 0\n",
    "    false_positive = 0\n",
    "    false_negative = 0\n",
    "    true_positive = 0\n",
    "    true_negative = 0 \n",
    "    \n",
    "    # update proper category according to predicted and actual y's\n",
    "    for i in range(len(y_pred)):\n",
    "        if y_actual[i] == 1 and y_pred[i] == 1:\n",
    "            true_positive += 1\n",
    "        elif y_actual[i] == 0 and y_pred[i] == 0:\n",
    "            true_negative += 1\n",
    "        elif y_actual[i] == 0 and y_pred[i] == 1:\n",
    "            false_positive += 1\n",
    "        elif y_actual[i] == 1 and y_pred[i] == 0:\n",
    "            false_negative += 1\n",
    "    \n",
    "    # divide correct labels over total to find accuracy\n",
    "    accuracy = true_positive+true_negative/false_positive+false_negative+true_positive+true_negative\n",
    "    \n",
    "    return false_positive, false_negative, true_positive, true_negative, accuracy"
   ]
  },
  {
   "cell_type": "markdown",
   "metadata": {},
   "source": [
    "Q9) [20 points] Implement the perceptron cost function from the class (the softmax version). Note that the perceptron cost also uses the linear model (the model function from question 2)."
   ]
  },
  {
   "cell_type": "code",
   "execution_count": 18,
   "metadata": {},
   "outputs": [],
   "source": [
    "def perceptron_cost(w,x,y):\n",
    "    cost = np.log(1+np.exp(y * model(x,w)))\n",
    "    # average over all points\n",
    "    mean_cost = np.mean(cost)\n",
    "    return mean_cost"
   ]
  },
  {
   "cell_type": "markdown",
   "metadata": {},
   "source": [
    "Q10) [10 points] Run gradient descent function using the perceptron cost and the x and y from above and the parameters set to: max_its=2000,w=[1.0,1.0], and alpha=1.0. Save the cost and weight history returned by the gradient descent function. Plot the cost history. Which cost seems to do better on this dataset? Why do think that is?\n"
   ]
  },
  {
   "cell_type": "code",
   "execution_count": 24,
   "metadata": {},
   "outputs": [
    {
     "data": {
      "image/png": "[encoded data removed]",
      "text/plain": [
       "<Figure size 432x288 with 1 Axes>"
      ]
     },
     "metadata": {
      "needs_background": "light"
     },
     "output_type": "display_data"
    }
   ],
   "source": [
    "max_its=2000\n",
    "w= np.array([1.0,1.0])\n",
    "alpha=1.0\n",
    "\n",
    "weight_history1, cost_history1 = gradient_descent(perceptron_cost,alpha,max_its,w,x,y)\n",
    "\n",
    "plt.plot(range(max_its),cost_history1)\n",
    "plt.title(\"Cost vs. Iteration with Perceptron Cost\")\n",
    "plt.xlabel(\"Iteration\")\n",
    "plt.ylabel(\"Cost\")\n",
    "plt.show()"
   ]
  },
  {
   "cell_type": "markdown",
   "metadata": {},
   "source": [
    "Perceptron cost seems to perform better on this dataset; as visible from the graph above, cost drops off sharply before leveling out. This is perhaps because the shape of the perceptron cost function is better suited for finding global minima given the starting position and learning rate."
   ]
  },
  {
   "cell_type": "markdown",
   "metadata": {},
   "source": [
    "## The rest of these problems are for bonus points"
   ]
  },
  {
   "cell_type": "markdown",
   "metadata": {},
   "source": [
    "Q11) [2 points]  The file 'heart.csv' has 304 lines, each one corresponding to a data point. Each row (i.e., data point), has several columns. Read the data file. Note that the first line is the header describing each column."
   ]
  },
  {
   "cell_type": "code",
   "execution_count": 389,
   "metadata": {},
   "outputs": [],
   "source": [
    "csvname = 'heart.csv'\n",
    "# load in the data, excluding the first row\n",
    "data = np.loadtxt(csvname,delimiter=',',dtype=str,skiprows=1)"
   ]
  },
  {
   "cell_type": "markdown",
   "metadata": {},
   "source": [
    "Q12) [2 points] Use the data above to set y to be the \"target\" and X to be the remaining columns."
   ]
  },
  {
   "cell_type": "code",
   "execution_count": 390,
   "metadata": {},
   "outputs": [],
   "source": [
    "# index into data to pull out desired columns, and convert data type to float\n",
    "y = np.array(data[:,13],dtype='float')\n",
    "x = np.array(data[:,:12],dtype='float')"
   ]
  },
  {
   "cell_type": "markdown",
   "metadata": {},
   "source": [
    "Q13) [2 points] Run the code below to import the logistic regression and the train_test split functions from sklearn. Split your data into 80% train 20% test."
   ]
  },
  {
   "cell_type": "code",
   "execution_count": 391,
   "metadata": {},
   "outputs": [],
   "source": [
    "from sklearn.linear_model import LogisticRegression\n",
    "from sklearn.model_selection import train_test_split \n",
    "\n",
    "# split the data into 80% train, 20% test\n",
    "x_train, x_test, y_train, y_test = train_test_split(x, y, test_size=0.2)"
   ]
  },
  {
   "cell_type": "markdown",
   "metadata": {},
   "source": [
    "Q14) [5 points] Use sklearn to fit a logistic regression model on your training set. Use all the default parameter. Do not evaluate at this point. (You can find out about sklearn logistic regression here: https://scikit-learn.org/stable/modules/generated/sklearn.linear_model.LogisticRegression.html)"
   ]
  },
  {
   "cell_type": "code",
   "execution_count": 393,
   "metadata": {},
   "outputs": [
    {
     "name": "stderr",
     "output_type": "stream",
     "text": [
      "/usr/local/lib/python3.9/site-packages/sklearn/linear_model/_logistic.py:814: ConvergenceWarning: lbfgs failed to converge (status=1):\n",
      "STOP: TOTAL NO. of ITERATIONS REACHED LIMIT.\n",
      "\n",
      "Increase the number of iterations (max_iter) or scale the data as shown in:\n",
      "    https://scikit-learn.org/stable/modules/preprocessing.html\n",
      "Please also refer to the documentation for alternative solver options:\n",
      "    https://scikit-learn.org/stable/modules/linear_model.html#logistic-regression\n",
      "  n_iter_i = _check_optimize_result(\n"
     ]
    },
    {
     "data": {
      "text/plain": [
       "LogisticRegression()"
      ]
     },
     "execution_count": 393,
     "metadata": {},
     "output_type": "execute_result"
    }
   ],
   "source": [
    "# fit a logistic regression model to the training data\n",
    "logisticModel = LogisticRegression()\n",
    "logisticModel.fit(x_train, y_train)"
   ]
  },
  {
   "cell_type": "markdown",
   "metadata": {},
   "source": [
    "Q15) [5 points] Use the .predict_proba function of the logistic regression model that you have learned on your X_test. Note that the .predict_proba function returns an array of tuples where each element corresponds to the predicted probability for class 0 and 1 of the data point."
   ]
  },
  {
   "cell_type": "code",
   "execution_count": 394,
   "metadata": {},
   "outputs": [],
   "source": [
    "probabilities = logisticModel.predict_proba(x_test)"
   ]
  },
  {
   "cell_type": "markdown",
   "metadata": {},
   "source": [
    "Q16) [2 points] Filter the predicted probabilties from the last question to an array containing only the probabilites for class 1. I.e., you should no longer have tuples."
   ]
  },
  {
   "cell_type": "code",
   "execution_count": 395,
   "metadata": {},
   "outputs": [
    {
     "name": "stdout",
     "output_type": "stream",
     "text": [
      "[0.98169001 0.09010176 0.78805198 0.90032214 0.77792783 0.1273485\n",
      " 0.56252549 0.12472268 0.87290209 0.44643946 0.01191173 0.95953192\n",
      " 0.90756297 0.24903665 0.53969546 0.98464417 0.36460625 0.10414161\n",
      " 0.9375412  0.96398919 0.81656174 0.08008518 0.97520591 0.1442734\n",
      " 0.93213898 0.38185564 0.94807352 0.94718724 0.07886173 0.81798033\n",
      " 0.16493924 0.00200379 0.11290984 0.1644248  0.90455939 0.19802587\n",
      " 0.84031589 0.01200703 0.82843758 0.30676898 0.34447515 0.02192705\n",
      " 0.05168754 0.17152065 0.98427843 0.17307491 0.8848569  0.95039434\n",
      " 0.59337661 0.72378329 0.23643285 0.95102787 0.00410535 0.47018403\n",
      " 0.94806528 0.69265161 0.95966584 0.6412256  0.84397453 0.80763943\n",
      " 0.00486594]\n"
     ]
    }
   ],
   "source": [
    "class_1_probabilities = probabilities[:,1]\n",
    "print(class_1_probabilities)"
   ]
  },
  {
   "cell_type": "markdown",
   "metadata": {},
   "source": [
    "Q17) [8 points] Use the roc_curve function from sklearn (https://scikit-learn.org/stable/modules/generated/sklearn.metrics.roc_curve.html) to plot the ROC curve for your predictions using the predicted probabilities for class 1 and your y_test (use the default parameters). Also, print out the thresholds generated by the roc_curve function."
   ]
  },
  {
   "cell_type": "code",
   "execution_count": 396,
   "metadata": {},
   "outputs": [
    {
     "data": {
      "image/png": "[encoded data removed]",
      "text/plain": [
       "<Figure size 432x288 with 1 Axes>"
      ]
     },
     "metadata": {
      "needs_background": "light"
     },
     "output_type": "display_data"
    },
    {
     "name": "stdout",
     "output_type": "stream",
     "text": [
      "Thresholds:\n",
      " [1.98464417 0.98464417 0.94807352 0.94806528 0.80763943 0.78805198\n",
      " 0.72378329 0.69265161 0.53969546 0.36460625 0.34447515 0.30676898\n",
      " 0.23643285 0.19802587 0.17307491 0.17152065 0.16493924 0.1273485\n",
      " 0.12472268 0.00200379]\n"
     ]
    }
   ],
   "source": [
    "from sklearn import metrics\n",
    "# generate roc curve data\n",
    "fpr, tpr, thresholds = metrics.roc_curve(y_test, class_1_probabilities)\n",
    "\n",
    "# plot it\n",
    "plt.plot(fpr,tpr)\n",
    "plt.xlabel('False Positive Rate')\n",
    "plt.xlabel('True Positive Rate')\n",
    "plt.title('Logistic Regression ROC Curve')\n",
    "plt.show()\n",
    "\n",
    "# print thresholds\n",
    "print(\"Thresholds:\\n\", thresholds)"
   ]
  },
  {
   "cell_type": "markdown",
   "metadata": {},
   "source": [
    "Q18) [2 points] Use the roc_auc_score function from sklearn (https://scikit-learn.org/stable/modules/generated/sklearn.metrics.roc_auc_score.html#sklearn.metrics.roc_auc_score) to report the AUC score using the exact same setup as the last question."
   ]
  },
  {
   "cell_type": "code",
   "execution_count": 397,
   "metadata": {},
   "outputs": [
    {
     "name": "stdout",
     "output_type": "stream",
     "text": [
      "AUC Score: 0.9055555555555554\n"
     ]
    }
   ],
   "source": [
    "score = metrics.roc_auc_score(y_test, class_1_probabilities)\n",
    "print(\"AUC Score:\", score)"
   ]
  }
 ],
 "metadata": {
  "kernelspec": {
   "display_name": "Python 3 (ipykernel)",
   "language": "python",
   "name": "python3"
  },
  "language_info": {
   "codemirror_mode": {
    "name": "ipython",
    "version": 3
   },
   "file_extension": ".py",
   "mimetype": "text/x-python",
   "name": "python",
   "nbconvert_exporter": "python",
   "pygments_lexer": "ipython3",
   "version": "3.9.7"
  }
 },
 "nbformat": 4,
 "nbformat_minor": 2
}
